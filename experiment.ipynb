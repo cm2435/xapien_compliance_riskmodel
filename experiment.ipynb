{
 "cells": [
  {
   "cell_type": "code",
   "execution_count": 20,
   "metadata": {},
   "outputs": [],
   "source": [
    "import pandas as pd \n",
    "import json\n",
    "import numpy as np\n",
    "from bertopic import BERTopic\n"
   ]
  },
  {
   "cell_type": "code",
   "execution_count": null,
   "metadata": {},
   "outputs": [],
   "source": []
  },
  {
   "cell_type": "code",
   "execution_count": null,
   "metadata": {},
   "outputs": [],
   "source": []
  },
  {
   "cell_type": "code",
   "execution_count": 21,
   "metadata": {},
   "outputs": [],
   "source": [
    "with open(\"/Users/charliemasters/Desktop/xapien_compliance_riskmodel/data/NiramaxTextData.json\", \"r\") as f: \n",
    "    \n",
    "    file = json.load(f)"
   ]
  },
  {
   "cell_type": "code",
   "execution_count": 22,
   "metadata": {},
   "outputs": [],
   "source": [
    "df = pd.DataFrame(file['SearchResults'])\n",
    "df.columns = df.columns.str.lower()\n"
   ]
  },
  {
   "cell_type": "code",
   "execution_count": 23,
   "metadata": {},
   "outputs": [],
   "source": [
    "df['full_text'] = df.title + df.snippet\n",
    "df = df.drop_duplicates(subset= \"full_text\")\n"
   ]
  },
  {
   "cell_type": "code",
   "execution_count": 50,
   "metadata": {},
   "outputs": [
    {
     "data": {
      "text/html": [
       "<div>\n",
       "<style scoped>\n",
       "    .dataframe tbody tr th:only-of-type {\n",
       "        vertical-align: middle;\n",
       "    }\n",
       "\n",
       "    .dataframe tbody tr th {\n",
       "        vertical-align: top;\n",
       "    }\n",
       "\n",
       "    .dataframe thead th {\n",
       "        text-align: right;\n",
       "    }\n",
       "</style>\n",
       "<table border=\"1\" class=\"dataframe\">\n",
       "  <thead>\n",
       "    <tr style=\"text-align: right;\">\n",
       "      <th></th>\n",
       "      <th>Topic</th>\n",
       "      <th>Count</th>\n",
       "      <th>Name</th>\n",
       "      <th>Representation</th>\n",
       "      <th>Representative_Docs</th>\n",
       "    </tr>\n",
       "  </thead>\n",
       "  <tbody>\n",
       "    <tr>\n",
       "      <th>0</th>\n",
       "      <td>-1</td>\n",
       "      <td>21</td>\n",
       "      <td>-1_niramax_products_rubber_find</td>\n",
       "      <td>[niramax, products, rubber, find, killer, limi...</td>\n",
       "      <td>[NIRAMAX RUBBER PRODUCTS LIMITED people - Find...</td>\n",
       "    </tr>\n",
       "    <tr>\n",
       "      <th>1</th>\n",
       "      <td>0</td>\n",
       "      <td>30</td>\n",
       "      <td>0_niramax_limited_group_and</td>\n",
       "      <td>[niramax, limited, group, and, update, find, c...</td>\n",
       "      <td>[NIRAMAX GROUP LIMITED filing history - Find a...</td>\n",
       "    </tr>\n",
       "    <tr>\n",
       "      <th>2</th>\n",
       "      <td>1</td>\n",
       "      <td>22</td>\n",
       "      <td>1_boss_murder_hartlepool_elliott</td>\n",
       "      <td>[boss, murder, hartlepool, elliott, jailed, ne...</td>\n",
       "      <td>[Businessman jailed over death of drug addict ...</td>\n",
       "    </tr>\n",
       "    <tr>\n",
       "      <th>3</th>\n",
       "      <td>2</td>\n",
       "      <td>15</td>\n",
       "      <td>2_waste_fraud_tax_and</td>\n",
       "      <td>[waste, fraud, tax, and, landfill, firm, indus...</td>\n",
       "      <td>[Waste Industry: Criminality and Regulation - ...</td>\n",
       "    </tr>\n",
       "  </tbody>\n",
       "</table>\n",
       "</div>"
      ],
      "text/plain": [
       "   Topic  Count                              Name  \\\n",
       "0     -1     21   -1_niramax_products_rubber_find   \n",
       "1      0     30       0_niramax_limited_group_and   \n",
       "2      1     22  1_boss_murder_hartlepool_elliott   \n",
       "3      2     15             2_waste_fraud_tax_and   \n",
       "\n",
       "                                      Representation  \\\n",
       "0  [niramax, products, rubber, find, killer, limi...   \n",
       "1  [niramax, limited, group, and, update, find, c...   \n",
       "2  [boss, murder, hartlepool, elliott, jailed, ne...   \n",
       "3  [waste, fraud, tax, and, landfill, firm, indus...   \n",
       "\n",
       "                                 Representative_Docs  \n",
       "0  [NIRAMAX RUBBER PRODUCTS LIMITED people - Find...  \n",
       "1  [NIRAMAX GROUP LIMITED filing history - Find a...  \n",
       "2  [Businessman jailed over death of drug addict ...  \n",
       "3  [Waste Industry: Criminality and Regulation - ...  "
      ]
     },
     "execution_count": 50,
     "metadata": {},
     "output_type": "execute_result"
    }
   ],
   "source": [
    "from bertopic import BERTopic\n",
    "import openai\n",
    "from bertopic.representation import OpenAI\n",
    "from sentence_transformers import SentenceTransformer\n",
    "unique_titles = df.title.drop_duplicates().values \n",
    "representation_model = OpenAI(model=\"gpt-3.5-turbo\", chat=True)\n",
    "\n",
    "topic_model = BERTopic(embedding_model = SentenceTransformer('all-MiniLM-L6-v2'))\n",
    "topics, probs = topic_model.fit_transform(unique_titles)\n",
    "\n",
    "topic_model.get_topic_info()\n"
   ]
  },
  {
   "cell_type": "code",
   "execution_count": 35,
   "metadata": {},
   "outputs": [],
   "source": [
    "reps = topic_model.get_representative_docs()\n"
   ]
  },
  {
   "cell_type": "code",
   "execution_count": 41,
   "metadata": {},
   "outputs": [
    {
     "data": {
      "text/plain": [
       "['NIRAMAX RUBBER PRODUCTS LIMITED people - Find and update ...',\n",
       " 'NIRAMAX RUBBER PRODUCTS LIMITED overview - Find and ...',\n",
       " 'NIRAMAX RUBBER PRODUCTS LIMITED charges - Find and ...']"
      ]
     },
     "execution_count": 41,
     "metadata": {},
     "output_type": "execute_result"
    }
   ],
   "source": [
    "reps[-1]"
   ]
  },
  {
   "cell_type": "code",
   "execution_count": 42,
   "metadata": {},
   "outputs": [],
   "source": [
    "def map_representative_docs(rep_docs, key): \n",
    "    return rep_docs[int(key)]"
   ]
  },
  {
   "cell_type": "code",
   "execution_count": 49,
   "metadata": {},
   "outputs": [
    {
     "data": {
      "text/plain": [
       "[['NIRAMAX GROUP LIMITED filing history - Find and update ...',\n",
       "  'NIRAMAX HOLDINGS LIMITED charges - Find and update company ...',\n",
       "  'NIRAMAX GROUP LIMITED charges - Find and update company ...'],\n",
       " ['NIRAMAX GROUP LIMITED filing history - Find and update ...',\n",
       "  'NIRAMAX HOLDINGS LIMITED charges - Find and update company ...',\n",
       "  'NIRAMAX GROUP LIMITED charges - Find and update company ...'],\n",
       " ['NIRAMAX RUBBER PRODUCTS LIMITED people - Find and update ...',\n",
       "  'NIRAMAX RUBBER PRODUCTS LIMITED overview - Find and ...',\n",
       "  'NIRAMAX RUBBER PRODUCTS LIMITED charges - Find and ...'],\n",
       " ['NIRAMAX GROUP LIMITED filing history - Find and update ...',\n",
       "  'NIRAMAX HOLDINGS LIMITED charges - Find and update company ...',\n",
       "  'NIRAMAX GROUP LIMITED charges - Find and update company ...'],\n",
       " ['NIRAMAX GROUP LIMITED filing history - Find and update ...',\n",
       "  'NIRAMAX HOLDINGS LIMITED charges - Find and update company ...',\n",
       "  'NIRAMAX GROUP LIMITED charges - Find and update company ...'],\n",
       " ['NIRAMAX GROUP LIMITED filing history - Find and update ...',\n",
       "  'NIRAMAX HOLDINGS LIMITED charges - Find and update company ...',\n",
       "  'NIRAMAX GROUP LIMITED charges - Find and update company ...'],\n",
       " ['NIRAMAX GROUP LIMITED filing history - Find and update ...',\n",
       "  'NIRAMAX HOLDINGS LIMITED charges - Find and update company ...',\n",
       "  'NIRAMAX GROUP LIMITED charges - Find and update company ...'],\n",
       " ['NIRAMAX GROUP LIMITED filing history - Find and update ...',\n",
       "  'NIRAMAX HOLDINGS LIMITED charges - Find and update company ...',\n",
       "  'NIRAMAX GROUP LIMITED charges - Find and update company ...'],\n",
       " ['NIRAMAX RUBBER PRODUCTS LIMITED people - Find and update ...',\n",
       "  'NIRAMAX RUBBER PRODUCTS LIMITED overview - Find and ...',\n",
       "  'NIRAMAX RUBBER PRODUCTS LIMITED charges - Find and ...'],\n",
       " ['Waste Industry: Criminality and Regulation - Hansard',\n",
       "  'Waste management firm fined for fly infestation and ...',\n",
       "  'Tax fraud probe into waste firm formerly run by killer Neil ...'],\n",
       " [\"Murder accused Niramax boss Neil Elliott 'lives in one of ...\",\n",
       "  'Michael Phillips murder trial: Neil Elliott - The Hartlepool ...',\n",
       "  'Businessman jailed over death of drug addict he thought ...'],\n",
       " ['NIRAMAX GROUP LIMITED filing history - Find and update ...',\n",
       "  'NIRAMAX HOLDINGS LIMITED charges - Find and update company ...',\n",
       "  'NIRAMAX GROUP LIMITED charges - Find and update company ...'],\n",
       " ['Waste Industry: Criminality and Regulation - Hansard',\n",
       "  'Waste management firm fined for fly infestation and ...',\n",
       "  'Tax fraud probe into waste firm formerly run by killer Neil ...'],\n",
       " ['NIRAMAX RUBBER PRODUCTS LIMITED people - Find and update ...',\n",
       "  'NIRAMAX RUBBER PRODUCTS LIMITED overview - Find and ...',\n",
       "  'NIRAMAX RUBBER PRODUCTS LIMITED charges - Find and ...'],\n",
       " ['Waste Industry: Criminality and Regulation - Hansard',\n",
       "  'Waste management firm fined for fly infestation and ...',\n",
       "  'Tax fraud probe into waste firm formerly run by killer Neil ...'],\n",
       " [\"Murder accused Niramax boss Neil Elliott 'lives in one of ...\",\n",
       "  'Michael Phillips murder trial: Neil Elliott - The Hartlepool ...',\n",
       "  'Businessman jailed over death of drug addict he thought ...'],\n",
       " ['NIRAMAX RUBBER PRODUCTS LIMITED people - Find and update ...',\n",
       "  'NIRAMAX RUBBER PRODUCTS LIMITED overview - Find and ...',\n",
       "  'NIRAMAX RUBBER PRODUCTS LIMITED charges - Find and ...'],\n",
       " ['Waste Industry: Criminality and Regulation - Hansard',\n",
       "  'Waste management firm fined for fly infestation and ...',\n",
       "  'Tax fraud probe into waste firm formerly run by killer Neil ...'],\n",
       " ['NIRAMAX RUBBER PRODUCTS LIMITED people - Find and update ...',\n",
       "  'NIRAMAX RUBBER PRODUCTS LIMITED overview - Find and ...',\n",
       "  'NIRAMAX RUBBER PRODUCTS LIMITED charges - Find and ...'],\n",
       " ['NIRAMAX GROUP LIMITED filing history - Find and update ...',\n",
       "  'NIRAMAX HOLDINGS LIMITED charges - Find and update company ...',\n",
       "  'NIRAMAX GROUP LIMITED charges - Find and update company ...'],\n",
       " ['NIRAMAX GROUP LIMITED filing history - Find and update ...',\n",
       "  'NIRAMAX HOLDINGS LIMITED charges - Find and update company ...',\n",
       "  'NIRAMAX GROUP LIMITED charges - Find and update company ...'],\n",
       " ['NIRAMAX GROUP LIMITED filing history - Find and update ...',\n",
       "  'NIRAMAX HOLDINGS LIMITED charges - Find and update company ...',\n",
       "  'NIRAMAX GROUP LIMITED charges - Find and update company ...'],\n",
       " ['Waste Industry: Criminality and Regulation - Hansard',\n",
       "  'Waste management firm fined for fly infestation and ...',\n",
       "  'Tax fraud probe into waste firm formerly run by killer Neil ...'],\n",
       " ['NIRAMAX RUBBER PRODUCTS LIMITED people - Find and update ...',\n",
       "  'NIRAMAX RUBBER PRODUCTS LIMITED overview - Find and ...',\n",
       "  'NIRAMAX RUBBER PRODUCTS LIMITED charges - Find and ...'],\n",
       " [\"Murder accused Niramax boss Neil Elliott 'lives in one of ...\",\n",
       "  'Michael Phillips murder trial: Neil Elliott - The Hartlepool ...',\n",
       "  'Businessman jailed over death of drug addict he thought ...'],\n",
       " ['NIRAMAX GROUP LIMITED filing history - Find and update ...',\n",
       "  'NIRAMAX HOLDINGS LIMITED charges - Find and update company ...',\n",
       "  'NIRAMAX GROUP LIMITED charges - Find and update company ...'],\n",
       " [\"Murder accused Niramax boss Neil Elliott 'lives in one of ...\",\n",
       "  'Michael Phillips murder trial: Neil Elliott - The Hartlepool ...',\n",
       "  'Businessman jailed over death of drug addict he thought ...'],\n",
       " ['NIRAMAX RUBBER PRODUCTS LIMITED people - Find and update ...',\n",
       "  'NIRAMAX RUBBER PRODUCTS LIMITED overview - Find and ...',\n",
       "  'NIRAMAX RUBBER PRODUCTS LIMITED charges - Find and ...'],\n",
       " ['NIRAMAX RUBBER PRODUCTS LIMITED people - Find and update ...',\n",
       "  'NIRAMAX RUBBER PRODUCTS LIMITED overview - Find and ...',\n",
       "  'NIRAMAX RUBBER PRODUCTS LIMITED charges - Find and ...'],\n",
       " [\"Murder accused Niramax boss Neil Elliott 'lives in one of ...\",\n",
       "  'Michael Phillips murder trial: Neil Elliott - The Hartlepool ...',\n",
       "  'Businessman jailed over death of drug addict he thought ...'],\n",
       " ['NIRAMAX GROUP LIMITED filing history - Find and update ...',\n",
       "  'NIRAMAX HOLDINGS LIMITED charges - Find and update company ...',\n",
       "  'NIRAMAX GROUP LIMITED charges - Find and update company ...'],\n",
       " ['NIRAMAX GROUP LIMITED filing history - Find and update ...',\n",
       "  'NIRAMAX HOLDINGS LIMITED charges - Find and update company ...',\n",
       "  'NIRAMAX GROUP LIMITED charges - Find and update company ...'],\n",
       " ['NIRAMAX GROUP LIMITED filing history - Find and update ...',\n",
       "  'NIRAMAX HOLDINGS LIMITED charges - Find and update company ...',\n",
       "  'NIRAMAX GROUP LIMITED charges - Find and update company ...'],\n",
       " ['Waste Industry: Criminality and Regulation - Hansard',\n",
       "  'Waste management firm fined for fly infestation and ...',\n",
       "  'Tax fraud probe into waste firm formerly run by killer Neil ...'],\n",
       " ['Waste Industry: Criminality and Regulation - Hansard',\n",
       "  'Waste management firm fined for fly infestation and ...',\n",
       "  'Tax fraud probe into waste firm formerly run by killer Neil ...'],\n",
       " ['NIRAMAX GROUP LIMITED filing history - Find and update ...',\n",
       "  'NIRAMAX HOLDINGS LIMITED charges - Find and update company ...',\n",
       "  'NIRAMAX GROUP LIMITED charges - Find and update company ...'],\n",
       " ['Waste Industry: Criminality and Regulation - Hansard',\n",
       "  'Waste management firm fined for fly infestation and ...',\n",
       "  'Tax fraud probe into waste firm formerly run by killer Neil ...'],\n",
       " ['NIRAMAX RUBBER PRODUCTS LIMITED people - Find and update ...',\n",
       "  'NIRAMAX RUBBER PRODUCTS LIMITED overview - Find and ...',\n",
       "  'NIRAMAX RUBBER PRODUCTS LIMITED charges - Find and ...'],\n",
       " [\"Murder accused Niramax boss Neil Elliott 'lives in one of ...\",\n",
       "  'Michael Phillips murder trial: Neil Elliott - The Hartlepool ...',\n",
       "  'Businessman jailed over death of drug addict he thought ...'],\n",
       " ['Waste Industry: Criminality and Regulation - Hansard',\n",
       "  'Waste management firm fined for fly infestation and ...',\n",
       "  'Tax fraud probe into waste firm formerly run by killer Neil ...'],\n",
       " [\"Murder accused Niramax boss Neil Elliott 'lives in one of ...\",\n",
       "  'Michael Phillips murder trial: Neil Elliott - The Hartlepool ...',\n",
       "  'Businessman jailed over death of drug addict he thought ...'],\n",
       " [\"Murder accused Niramax boss Neil Elliott 'lives in one of ...\",\n",
       "  'Michael Phillips murder trial: Neil Elliott - The Hartlepool ...',\n",
       "  'Businessman jailed over death of drug addict he thought ...'],\n",
       " [\"Murder accused Niramax boss Neil Elliott 'lives in one of ...\",\n",
       "  'Michael Phillips murder trial: Neil Elliott - The Hartlepool ...',\n",
       "  'Businessman jailed over death of drug addict he thought ...'],\n",
       " [\"Murder accused Niramax boss Neil Elliott 'lives in one of ...\",\n",
       "  'Michael Phillips murder trial: Neil Elliott - The Hartlepool ...',\n",
       "  'Businessman jailed over death of drug addict he thought ...'],\n",
       " ['NIRAMAX RUBBER PRODUCTS LIMITED people - Find and update ...',\n",
       "  'NIRAMAX RUBBER PRODUCTS LIMITED overview - Find and ...',\n",
       "  'NIRAMAX RUBBER PRODUCTS LIMITED charges - Find and ...'],\n",
       " ['NIRAMAX RUBBER PRODUCTS LIMITED people - Find and update ...',\n",
       "  'NIRAMAX RUBBER PRODUCTS LIMITED overview - Find and ...',\n",
       "  'NIRAMAX RUBBER PRODUCTS LIMITED charges - Find and ...'],\n",
       " ['NIRAMAX RUBBER PRODUCTS LIMITED people - Find and update ...',\n",
       "  'NIRAMAX RUBBER PRODUCTS LIMITED overview - Find and ...',\n",
       "  'NIRAMAX RUBBER PRODUCTS LIMITED charges - Find and ...'],\n",
       " ['NIRAMAX GROUP LIMITED filing history - Find and update ...',\n",
       "  'NIRAMAX HOLDINGS LIMITED charges - Find and update company ...',\n",
       "  'NIRAMAX GROUP LIMITED charges - Find and update company ...'],\n",
       " [\"Murder accused Niramax boss Neil Elliott 'lives in one of ...\",\n",
       "  'Michael Phillips murder trial: Neil Elliott - The Hartlepool ...',\n",
       "  'Businessman jailed over death of drug addict he thought ...'],\n",
       " [\"Murder accused Niramax boss Neil Elliott 'lives in one of ...\",\n",
       "  'Michael Phillips murder trial: Neil Elliott - The Hartlepool ...',\n",
       "  'Businessman jailed over death of drug addict he thought ...'],\n",
       " ['NIRAMAX RUBBER PRODUCTS LIMITED people - Find and update ...',\n",
       "  'NIRAMAX RUBBER PRODUCTS LIMITED overview - Find and ...',\n",
       "  'NIRAMAX RUBBER PRODUCTS LIMITED charges - Find and ...'],\n",
       " [\"Murder accused Niramax boss Neil Elliott 'lives in one of ...\",\n",
       "  'Michael Phillips murder trial: Neil Elliott - The Hartlepool ...',\n",
       "  'Businessman jailed over death of drug addict he thought ...'],\n",
       " ['Waste Industry: Criminality and Regulation - Hansard',\n",
       "  'Waste management firm fined for fly infestation and ...',\n",
       "  'Tax fraud probe into waste firm formerly run by killer Neil ...'],\n",
       " ['NIRAMAX RUBBER PRODUCTS LIMITED people - Find and update ...',\n",
       "  'NIRAMAX RUBBER PRODUCTS LIMITED overview - Find and ...',\n",
       "  'NIRAMAX RUBBER PRODUCTS LIMITED charges - Find and ...'],\n",
       " ['NIRAMAX GROUP LIMITED filing history - Find and update ...',\n",
       "  'NIRAMAX HOLDINGS LIMITED charges - Find and update company ...',\n",
       "  'NIRAMAX GROUP LIMITED charges - Find and update company ...'],\n",
       " ['Waste Industry: Criminality and Regulation - Hansard',\n",
       "  'Waste management firm fined for fly infestation and ...',\n",
       "  'Tax fraud probe into waste firm formerly run by killer Neil ...'],\n",
       " ['NIRAMAX RUBBER PRODUCTS LIMITED people - Find and update ...',\n",
       "  'NIRAMAX RUBBER PRODUCTS LIMITED overview - Find and ...',\n",
       "  'NIRAMAX RUBBER PRODUCTS LIMITED charges - Find and ...'],\n",
       " ['NIRAMAX GROUP LIMITED filing history - Find and update ...',\n",
       "  'NIRAMAX HOLDINGS LIMITED charges - Find and update company ...',\n",
       "  'NIRAMAX GROUP LIMITED charges - Find and update company ...'],\n",
       " ['NIRAMAX GROUP LIMITED filing history - Find and update ...',\n",
       "  'NIRAMAX HOLDINGS LIMITED charges - Find and update company ...',\n",
       "  'NIRAMAX GROUP LIMITED charges - Find and update company ...'],\n",
       " ['NIRAMAX RUBBER PRODUCTS LIMITED people - Find and update ...',\n",
       "  'NIRAMAX RUBBER PRODUCTS LIMITED overview - Find and ...',\n",
       "  'NIRAMAX RUBBER PRODUCTS LIMITED charges - Find and ...'],\n",
       " [\"Murder accused Niramax boss Neil Elliott 'lives in one of ...\",\n",
       "  'Michael Phillips murder trial: Neil Elliott - The Hartlepool ...',\n",
       "  'Businessman jailed over death of drug addict he thought ...'],\n",
       " ['Waste Industry: Criminality and Regulation - Hansard',\n",
       "  'Waste management firm fined for fly infestation and ...',\n",
       "  'Tax fraud probe into waste firm formerly run by killer Neil ...'],\n",
       " ['Waste Industry: Criminality and Regulation - Hansard',\n",
       "  'Waste management firm fined for fly infestation and ...',\n",
       "  'Tax fraud probe into waste firm formerly run by killer Neil ...'],\n",
       " ['NIRAMAX RUBBER PRODUCTS LIMITED people - Find and update ...',\n",
       "  'NIRAMAX RUBBER PRODUCTS LIMITED overview - Find and ...',\n",
       "  'NIRAMAX RUBBER PRODUCTS LIMITED charges - Find and ...'],\n",
       " ['NIRAMAX GROUP LIMITED filing history - Find and update ...',\n",
       "  'NIRAMAX HOLDINGS LIMITED charges - Find and update company ...',\n",
       "  'NIRAMAX GROUP LIMITED charges - Find and update company ...'],\n",
       " ['NIRAMAX RUBBER PRODUCTS LIMITED people - Find and update ...',\n",
       "  'NIRAMAX RUBBER PRODUCTS LIMITED overview - Find and ...',\n",
       "  'NIRAMAX RUBBER PRODUCTS LIMITED charges - Find and ...'],\n",
       " ['NIRAMAX GROUP LIMITED filing history - Find and update ...',\n",
       "  'NIRAMAX HOLDINGS LIMITED charges - Find and update company ...',\n",
       "  'NIRAMAX GROUP LIMITED charges - Find and update company ...'],\n",
       " ['NIRAMAX RUBBER PRODUCTS LIMITED people - Find and update ...',\n",
       "  'NIRAMAX RUBBER PRODUCTS LIMITED overview - Find and ...',\n",
       "  'NIRAMAX RUBBER PRODUCTS LIMITED charges - Find and ...'],\n",
       " ['NIRAMAX RUBBER PRODUCTS LIMITED people - Find and update ...',\n",
       "  'NIRAMAX RUBBER PRODUCTS LIMITED overview - Find and ...',\n",
       "  'NIRAMAX RUBBER PRODUCTS LIMITED charges - Find and ...'],\n",
       " ['NIRAMAX RUBBER PRODUCTS LIMITED people - Find and update ...',\n",
       "  'NIRAMAX RUBBER PRODUCTS LIMITED overview - Find and ...',\n",
       "  'NIRAMAX RUBBER PRODUCTS LIMITED charges - Find and ...'],\n",
       " [\"Murder accused Niramax boss Neil Elliott 'lives in one of ...\",\n",
       "  'Michael Phillips murder trial: Neil Elliott - The Hartlepool ...',\n",
       "  'Businessman jailed over death of drug addict he thought ...'],\n",
       " [\"Murder accused Niramax boss Neil Elliott 'lives in one of ...\",\n",
       "  'Michael Phillips murder trial: Neil Elliott - The Hartlepool ...',\n",
       "  'Businessman jailed over death of drug addict he thought ...'],\n",
       " ['NIRAMAX GROUP LIMITED filing history - Find and update ...',\n",
       "  'NIRAMAX HOLDINGS LIMITED charges - Find and update company ...',\n",
       "  'NIRAMAX GROUP LIMITED charges - Find and update company ...'],\n",
       " [\"Murder accused Niramax boss Neil Elliott 'lives in one of ...\",\n",
       "  'Michael Phillips murder trial: Neil Elliott - The Hartlepool ...',\n",
       "  'Businessman jailed over death of drug addict he thought ...'],\n",
       " [\"Murder accused Niramax boss Neil Elliott 'lives in one of ...\",\n",
       "  'Michael Phillips murder trial: Neil Elliott - The Hartlepool ...',\n",
       "  'Businessman jailed over death of drug addict he thought ...'],\n",
       " ['NIRAMAX GROUP LIMITED filing history - Find and update ...',\n",
       "  'NIRAMAX HOLDINGS LIMITED charges - Find and update company ...',\n",
       "  'NIRAMAX GROUP LIMITED charges - Find and update company ...'],\n",
       " ['NIRAMAX GROUP LIMITED filing history - Find and update ...',\n",
       "  'NIRAMAX HOLDINGS LIMITED charges - Find and update company ...',\n",
       "  'NIRAMAX GROUP LIMITED charges - Find and update company ...'],\n",
       " ['NIRAMAX RUBBER PRODUCTS LIMITED people - Find and update ...',\n",
       "  'NIRAMAX RUBBER PRODUCTS LIMITED overview - Find and ...',\n",
       "  'NIRAMAX RUBBER PRODUCTS LIMITED charges - Find and ...'],\n",
       " [\"Murder accused Niramax boss Neil Elliott 'lives in one of ...\",\n",
       "  'Michael Phillips murder trial: Neil Elliott - The Hartlepool ...',\n",
       "  'Businessman jailed over death of drug addict he thought ...'],\n",
       " ['NIRAMAX GROUP LIMITED filing history - Find and update ...',\n",
       "  'NIRAMAX HOLDINGS LIMITED charges - Find and update company ...',\n",
       "  'NIRAMAX GROUP LIMITED charges - Find and update company ...'],\n",
       " ['Waste Industry: Criminality and Regulation - Hansard',\n",
       "  'Waste management firm fined for fly infestation and ...',\n",
       "  'Tax fraud probe into waste firm formerly run by killer Neil ...'],\n",
       " ['NIRAMAX GROUP LIMITED filing history - Find and update ...',\n",
       "  'NIRAMAX HOLDINGS LIMITED charges - Find and update company ...',\n",
       "  'NIRAMAX GROUP LIMITED charges - Find and update company ...'],\n",
       " ['NIRAMAX RUBBER PRODUCTS LIMITED people - Find and update ...',\n",
       "  'NIRAMAX RUBBER PRODUCTS LIMITED overview - Find and ...',\n",
       "  'NIRAMAX RUBBER PRODUCTS LIMITED charges - Find and ...'],\n",
       " ['NIRAMAX GROUP LIMITED filing history - Find and update ...',\n",
       "  'NIRAMAX HOLDINGS LIMITED charges - Find and update company ...',\n",
       "  'NIRAMAX GROUP LIMITED charges - Find and update company ...'],\n",
       " ['NIRAMAX GROUP LIMITED filing history - Find and update ...',\n",
       "  'NIRAMAX HOLDINGS LIMITED charges - Find and update company ...',\n",
       "  'NIRAMAX GROUP LIMITED charges - Find and update company ...'],\n",
       " ['NIRAMAX RUBBER PRODUCTS LIMITED people - Find and update ...',\n",
       "  'NIRAMAX RUBBER PRODUCTS LIMITED overview - Find and ...',\n",
       "  'NIRAMAX RUBBER PRODUCTS LIMITED charges - Find and ...'],\n",
       " ['NIRAMAX RUBBER PRODUCTS LIMITED people - Find and update ...',\n",
       "  'NIRAMAX RUBBER PRODUCTS LIMITED overview - Find and ...',\n",
       "  'NIRAMAX RUBBER PRODUCTS LIMITED charges - Find and ...'],\n",
       " ['NIRAMAX GROUP LIMITED filing history - Find and update ...',\n",
       "  'NIRAMAX HOLDINGS LIMITED charges - Find and update company ...',\n",
       "  'NIRAMAX GROUP LIMITED charges - Find and update company ...']]"
      ]
     },
     "execution_count": 49,
     "metadata": {},
     "output_type": "execute_result"
    }
   ],
   "source": [
    "topic_df[\"Topic\"].map(reps).tolist()\n"
   ]
  },
  {
   "cell_type": "code",
   "execution_count": 32,
   "metadata": {},
   "outputs": [],
   "source": [
    "topic_df = topic_model.get_document_info(unique_titles)\n",
    "\n"
   ]
  },
  {
   "cell_type": "code",
   "execution_count": 38,
   "metadata": {},
   "outputs": [
    {
     "data": {
      "text/html": [
       "<div>\n",
       "<style scoped>\n",
       "    .dataframe tbody tr th:only-of-type {\n",
       "        vertical-align: middle;\n",
       "    }\n",
       "\n",
       "    .dataframe tbody tr th {\n",
       "        vertical-align: top;\n",
       "    }\n",
       "\n",
       "    .dataframe thead th {\n",
       "        text-align: right;\n",
       "    }\n",
       "</style>\n",
       "<table border=\"1\" class=\"dataframe\">\n",
       "  <thead>\n",
       "    <tr style=\"text-align: right;\">\n",
       "      <th></th>\n",
       "      <th>Document</th>\n",
       "      <th>Topic</th>\n",
       "      <th>Name</th>\n",
       "      <th>Representation</th>\n",
       "      <th>Representative_Docs</th>\n",
       "      <th>Top_n_words</th>\n",
       "      <th>Probability</th>\n",
       "      <th>Representative_document</th>\n",
       "    </tr>\n",
       "  </thead>\n",
       "  <tbody>\n",
       "    <tr>\n",
       "      <th>0</th>\n",
       "      <td>Zurich Insurance PLC v Niramax Group Limited [...</td>\n",
       "      <td>0</td>\n",
       "      <td>0_niramax_limited_group_company</td>\n",
       "      <td>[niramax, limited, group, company, and, update...</td>\n",
       "      <td>[NIRAMAX GROUP LIMITED filing history - Find a...</td>\n",
       "      <td>niramax - limited - group - company - and - up...</td>\n",
       "      <td>0.894246</td>\n",
       "      <td>False</td>\n",
       "    </tr>\n",
       "    <tr>\n",
       "      <th>1</th>\n",
       "      <td>Non-disclosure to insurers (pre-Insurance Act ...</td>\n",
       "      <td>0</td>\n",
       "      <td>0_niramax_limited_group_company</td>\n",
       "      <td>[niramax, limited, group, company, and, update...</td>\n",
       "      <td>[NIRAMAX GROUP LIMITED filing history - Find a...</td>\n",
       "      <td>niramax - limited - group - company - and - up...</td>\n",
       "      <td>0.632915</td>\n",
       "      <td>False</td>\n",
       "    </tr>\n",
       "    <tr>\n",
       "      <th>2</th>\n",
       "      <td>Recycling firm Niramax fined Â£16000 over envi...</td>\n",
       "      <td>-1</td>\n",
       "      <td>-1_niramax_products_rubber_firm</td>\n",
       "      <td>[niramax, products, rubber, firm, teesside, ha...</td>\n",
       "      <td>[NIRAMAX RUBBER PRODUCTS LIMITED people - Find...</td>\n",
       "      <td>niramax - products - rubber - firm - teesside ...</td>\n",
       "      <td>0.000000</td>\n",
       "      <td>False</td>\n",
       "    </tr>\n",
       "    <tr>\n",
       "      <th>3</th>\n",
       "      <td>Contact us - Niramax Group Limited</td>\n",
       "      <td>0</td>\n",
       "      <td>0_niramax_limited_group_company</td>\n",
       "      <td>[niramax, limited, group, company, and, update...</td>\n",
       "      <td>[NIRAMAX GROUP LIMITED filing history - Find a...</td>\n",
       "      <td>niramax - limited - group - company - and - up...</td>\n",
       "      <td>1.000000</td>\n",
       "      <td>False</td>\n",
       "    </tr>\n",
       "    <tr>\n",
       "      <th>4</th>\n",
       "      <td>NIRAMAX ENERGY LIMITED overview - Find and upd...</td>\n",
       "      <td>0</td>\n",
       "      <td>0_niramax_limited_group_company</td>\n",
       "      <td>[niramax, limited, group, company, and, update...</td>\n",
       "      <td>[NIRAMAX GROUP LIMITED filing history - Find a...</td>\n",
       "      <td>niramax - limited - group - company - and - up...</td>\n",
       "      <td>1.000000</td>\n",
       "      <td>False</td>\n",
       "    </tr>\n",
       "    <tr>\n",
       "      <th>...</th>\n",
       "      <td>...</td>\n",
       "      <td>...</td>\n",
       "      <td>...</td>\n",
       "      <td>...</td>\n",
       "      <td>...</td>\n",
       "      <td>...</td>\n",
       "      <td>...</td>\n",
       "      <td>...</td>\n",
       "    </tr>\n",
       "    <tr>\n",
       "      <th>83</th>\n",
       "      <td>NIRAMAX HOLDINGS LIMITED more information - Fi...</td>\n",
       "      <td>0</td>\n",
       "      <td>0_niramax_limited_group_company</td>\n",
       "      <td>[niramax, limited, group, company, and, update...</td>\n",
       "      <td>[NIRAMAX GROUP LIMITED filing history - Find a...</td>\n",
       "      <td>niramax - limited - group - company - and - up...</td>\n",
       "      <td>1.000000</td>\n",
       "      <td>False</td>\n",
       "    </tr>\n",
       "    <tr>\n",
       "      <th>84</th>\n",
       "      <td>NIRAMAX GROUP LIMITED filing history - Find an...</td>\n",
       "      <td>0</td>\n",
       "      <td>0_niramax_limited_group_company</td>\n",
       "      <td>[niramax, limited, group, company, and, update...</td>\n",
       "      <td>[NIRAMAX GROUP LIMITED filing history - Find a...</td>\n",
       "      <td>niramax - limited - group - company - and - up...</td>\n",
       "      <td>0.985919</td>\n",
       "      <td>True</td>\n",
       "    </tr>\n",
       "    <tr>\n",
       "      <th>85</th>\n",
       "      <td>NIRAMAX RUBBER PRODUCTS LIMITED charges - Find...</td>\n",
       "      <td>-1</td>\n",
       "      <td>-1_niramax_products_rubber_firm</td>\n",
       "      <td>[niramax, products, rubber, firm, teesside, ha...</td>\n",
       "      <td>[NIRAMAX RUBBER PRODUCTS LIMITED people - Find...</td>\n",
       "      <td>niramax - products - rubber - firm - teesside ...</td>\n",
       "      <td>0.000000</td>\n",
       "      <td>True</td>\n",
       "    </tr>\n",
       "    <tr>\n",
       "      <th>86</th>\n",
       "      <td>NIRAMAX RUBBER PRODUCTS LIMITED more informati...</td>\n",
       "      <td>-1</td>\n",
       "      <td>-1_niramax_products_rubber_firm</td>\n",
       "      <td>[niramax, products, rubber, firm, teesside, ha...</td>\n",
       "      <td>[NIRAMAX RUBBER PRODUCTS LIMITED people - Find...</td>\n",
       "      <td>niramax - products - rubber - firm - teesside ...</td>\n",
       "      <td>0.000000</td>\n",
       "      <td>False</td>\n",
       "    </tr>\n",
       "    <tr>\n",
       "      <th>87</th>\n",
       "      <td>G14 Organisational chart</td>\n",
       "      <td>0</td>\n",
       "      <td>0_niramax_limited_group_company</td>\n",
       "      <td>[niramax, limited, group, company, and, update...</td>\n",
       "      <td>[NIRAMAX GROUP LIMITED filing history - Find a...</td>\n",
       "      <td>niramax - limited - group - company - and - up...</td>\n",
       "      <td>0.968450</td>\n",
       "      <td>False</td>\n",
       "    </tr>\n",
       "  </tbody>\n",
       "</table>\n",
       "<p>88 rows × 8 columns</p>\n",
       "</div>"
      ],
      "text/plain": [
       "                                             Document  Topic  \\\n",
       "0   Zurich Insurance PLC v Niramax Group Limited [...      0   \n",
       "1   Non-disclosure to insurers (pre-Insurance Act ...      0   \n",
       "2   Recycling firm Niramax fined Â£16000 over envi...     -1   \n",
       "3                  Contact us - Niramax Group Limited      0   \n",
       "4   NIRAMAX ENERGY LIMITED overview - Find and upd...      0   \n",
       "..                                                ...    ...   \n",
       "83  NIRAMAX HOLDINGS LIMITED more information - Fi...      0   \n",
       "84  NIRAMAX GROUP LIMITED filing history - Find an...      0   \n",
       "85  NIRAMAX RUBBER PRODUCTS LIMITED charges - Find...     -1   \n",
       "86  NIRAMAX RUBBER PRODUCTS LIMITED more informati...     -1   \n",
       "87                           G14 Organisational chart      0   \n",
       "\n",
       "                               Name  \\\n",
       "0   0_niramax_limited_group_company   \n",
       "1   0_niramax_limited_group_company   \n",
       "2   -1_niramax_products_rubber_firm   \n",
       "3   0_niramax_limited_group_company   \n",
       "4   0_niramax_limited_group_company   \n",
       "..                              ...   \n",
       "83  0_niramax_limited_group_company   \n",
       "84  0_niramax_limited_group_company   \n",
       "85  -1_niramax_products_rubber_firm   \n",
       "86  -1_niramax_products_rubber_firm   \n",
       "87  0_niramax_limited_group_company   \n",
       "\n",
       "                                       Representation  \\\n",
       "0   [niramax, limited, group, company, and, update...   \n",
       "1   [niramax, limited, group, company, and, update...   \n",
       "2   [niramax, products, rubber, firm, teesside, ha...   \n",
       "3   [niramax, limited, group, company, and, update...   \n",
       "4   [niramax, limited, group, company, and, update...   \n",
       "..                                                ...   \n",
       "83  [niramax, limited, group, company, and, update...   \n",
       "84  [niramax, limited, group, company, and, update...   \n",
       "85  [niramax, products, rubber, firm, teesside, ha...   \n",
       "86  [niramax, products, rubber, firm, teesside, ha...   \n",
       "87  [niramax, limited, group, company, and, update...   \n",
       "\n",
       "                                  Representative_Docs  \\\n",
       "0   [NIRAMAX GROUP LIMITED filing history - Find a...   \n",
       "1   [NIRAMAX GROUP LIMITED filing history - Find a...   \n",
       "2   [NIRAMAX RUBBER PRODUCTS LIMITED people - Find...   \n",
       "3   [NIRAMAX GROUP LIMITED filing history - Find a...   \n",
       "4   [NIRAMAX GROUP LIMITED filing history - Find a...   \n",
       "..                                                ...   \n",
       "83  [NIRAMAX GROUP LIMITED filing history - Find a...   \n",
       "84  [NIRAMAX GROUP LIMITED filing history - Find a...   \n",
       "85  [NIRAMAX RUBBER PRODUCTS LIMITED people - Find...   \n",
       "86  [NIRAMAX RUBBER PRODUCTS LIMITED people - Find...   \n",
       "87  [NIRAMAX GROUP LIMITED filing history - Find a...   \n",
       "\n",
       "                                          Top_n_words  Probability  \\\n",
       "0   niramax - limited - group - company - and - up...     0.894246   \n",
       "1   niramax - limited - group - company - and - up...     0.632915   \n",
       "2   niramax - products - rubber - firm - teesside ...     0.000000   \n",
       "3   niramax - limited - group - company - and - up...     1.000000   \n",
       "4   niramax - limited - group - company - and - up...     1.000000   \n",
       "..                                                ...          ...   \n",
       "83  niramax - limited - group - company - and - up...     1.000000   \n",
       "84  niramax - limited - group - company - and - up...     0.985919   \n",
       "85  niramax - products - rubber - firm - teesside ...     0.000000   \n",
       "86  niramax - products - rubber - firm - teesside ...     0.000000   \n",
       "87  niramax - limited - group - company - and - up...     0.968450   \n",
       "\n",
       "    Representative_document  \n",
       "0                     False  \n",
       "1                     False  \n",
       "2                     False  \n",
       "3                     False  \n",
       "4                     False  \n",
       "..                      ...  \n",
       "83                    False  \n",
       "84                     True  \n",
       "85                     True  \n",
       "86                    False  \n",
       "87                    False  \n",
       "\n",
       "[88 rows x 8 columns]"
      ]
     },
     "execution_count": 38,
     "metadata": {},
     "output_type": "execute_result"
    }
   ],
   "source": [
    "topic_df\n",
    "\n"
   ]
  },
  {
   "cell_type": "code",
   "execution_count": 39,
   "metadata": {},
   "outputs": [
    {
     "data": {
      "text/plain": [
       "0     [NIRAMAX GROUP LIMITED filing history - Find a...\n",
       "1     [NIRAMAX GROUP LIMITED filing history - Find a...\n",
       "2     [NIRAMAX RUBBER PRODUCTS LIMITED people - Find...\n",
       "3     [NIRAMAX GROUP LIMITED filing history - Find a...\n",
       "4     [NIRAMAX GROUP LIMITED filing history - Find a...\n",
       "                            ...                        \n",
       "83    [NIRAMAX GROUP LIMITED filing history - Find a...\n",
       "84    [NIRAMAX GROUP LIMITED filing history - Find a...\n",
       "85    [NIRAMAX RUBBER PRODUCTS LIMITED people - Find...\n",
       "86    [NIRAMAX RUBBER PRODUCTS LIMITED people - Find...\n",
       "87    [NIRAMAX GROUP LIMITED filing history - Find a...\n",
       "Name: Topic, Length: 88, dtype: object"
      ]
     },
     "execution_count": 39,
     "metadata": {},
     "output_type": "execute_result"
    }
   ],
   "source": [
    "topic_df['Topic'].map(reps)\n"
   ]
  },
  {
   "cell_type": "code",
   "execution_count": 27,
   "metadata": {},
   "outputs": [],
   "source": [
    "topic_df = topic_model.get_document_info(unique_titles)\n",
    "topic_df.columns = topic_df.columns.str.lower()\n"
   ]
  },
  {
   "cell_type": "code",
   "execution_count": 28,
   "metadata": {},
   "outputs": [],
   "source": [
    "#Merge \n",
    "merged_df = pd.merge(df, topic_df, left_on=['title'], right_on=['document'], how='inner')\n",
    "\n",
    "# Drop the redundant 'Document' column from the merged DataFrame\n",
    "merged_df = merged_df.drop('document', axis=1)\n"
   ]
  },
  {
   "cell_type": "code",
   "execution_count": 29,
   "metadata": {},
   "outputs": [
    {
     "data": {
      "text/html": [
       "<div>\n",
       "<style scoped>\n",
       "    .dataframe tbody tr th:only-of-type {\n",
       "        vertical-align: middle;\n",
       "    }\n",
       "\n",
       "    .dataframe tbody tr th {\n",
       "        vertical-align: top;\n",
       "    }\n",
       "\n",
       "    .dataframe thead th {\n",
       "        text-align: right;\n",
       "    }\n",
       "</style>\n",
       "<table border=\"1\" class=\"dataframe\">\n",
       "  <thead>\n",
       "    <tr style=\"text-align: right;\">\n",
       "      <th></th>\n",
       "      <th>title</th>\n",
       "      <th>snippet</th>\n",
       "      <th>date</th>\n",
       "      <th>sourceids</th>\n",
       "      <th>full_text</th>\n",
       "      <th>topic</th>\n",
       "      <th>name</th>\n",
       "      <th>representation</th>\n",
       "      <th>representative_docs</th>\n",
       "      <th>top_n_words</th>\n",
       "      <th>probability</th>\n",
       "      <th>representative_document</th>\n",
       "    </tr>\n",
       "  </thead>\n",
       "  <tbody>\n",
       "    <tr>\n",
       "      <th>0</th>\n",
       "      <td>Zurich Insurance PLC v Niramax Group Limited [...</td>\n",
       "      <td>5 May 2021 - ... Chambers Social Responsibilit...</td>\n",
       "      <td>{'Year': 2021, 'Month': 5, 'MonthShort': 'May'...</td>\n",
       "      <td>[d59499b9-4d75-4aec-9e85-fecccb89b476, 97d7dbc...</td>\n",
       "      <td>Zurich Insurance PLC v Niramax Group Limited [...</td>\n",
       "      <td>0</td>\n",
       "      <td>0_niramax_limited_group_company</td>\n",
       "      <td>[niramax, limited, group, company, and, update...</td>\n",
       "      <td>[NIRAMAX GROUP LIMITED filing history - Find a...</td>\n",
       "      <td>niramax - limited - group - company - and - up...</td>\n",
       "      <td>0.894246</td>\n",
       "      <td>False</td>\n",
       "    </tr>\n",
       "    <tr>\n",
       "      <th>1</th>\n",
       "      <td>Zurich Insurance PLC v Niramax Group Limited [...</td>\n",
       "      <td>4 May 2021 - The Respondent, Niramax, was in t...</td>\n",
       "      <td>{'Year': 2021, 'Month': 5, 'MonthShort': 'May'...</td>\n",
       "      <td>[4eb3a73b-1feb-4c84-a5fc-0a15d9df8410, e4c060e...</td>\n",
       "      <td>Zurich Insurance PLC v Niramax Group Limited [...</td>\n",
       "      <td>0</td>\n",
       "      <td>0_niramax_limited_group_company</td>\n",
       "      <td>[niramax, limited, group, company, and, update...</td>\n",
       "      <td>[NIRAMAX GROUP LIMITED filing history - Find a...</td>\n",
       "      <td>niramax - limited - group - company - and - up...</td>\n",
       "      <td>0.894246</td>\n",
       "      <td>False</td>\n",
       "    </tr>\n",
       "    <tr>\n",
       "      <th>2</th>\n",
       "      <td>Non-disclosure to insurers (pre-Insurance Act ...</td>\n",
       "      <td>29 Jul 2021 - In December 2015, waste collecti...</td>\n",
       "      <td>{'Year': 2021, 'Month': 7, 'MonthShort': 'Jul'...</td>\n",
       "      <td>[1afc8049-8272-425f-aea1-23d0dda39eb3, c43a9f9...</td>\n",
       "      <td>Non-disclosure to insurers (pre-Insurance Act ...</td>\n",
       "      <td>0</td>\n",
       "      <td>0_niramax_limited_group_company</td>\n",
       "      <td>[niramax, limited, group, company, and, update...</td>\n",
       "      <td>[NIRAMAX GROUP LIMITED filing history - Find a...</td>\n",
       "      <td>niramax - limited - group - company - and - up...</td>\n",
       "      <td>0.632915</td>\n",
       "      <td>False</td>\n",
       "    </tr>\n",
       "    <tr>\n",
       "      <th>3</th>\n",
       "      <td>Recycling firm Niramax fined Â£16000 over envi...</td>\n",
       "      <td>15 Jan 2018 - Niramax Group Ltd pleaded guilty...</td>\n",
       "      <td>{'Year': 2018, 'Month': 1, 'MonthShort': 'Jan'...</td>\n",
       "      <td>[be8451e5-537a-4088-8763-2dfbd7a77ad5, 5e7bf3c...</td>\n",
       "      <td>Recycling firm Niramax fined Â£16000 over envi...</td>\n",
       "      <td>-1</td>\n",
       "      <td>-1_niramax_products_rubber_firm</td>\n",
       "      <td>[niramax, products, rubber, firm, teesside, ha...</td>\n",
       "      <td>[NIRAMAX RUBBER PRODUCTS LIMITED people - Find...</td>\n",
       "      <td>niramax - products - rubber - firm - teesside ...</td>\n",
       "      <td>0.000000</td>\n",
       "      <td>False</td>\n",
       "    </tr>\n",
       "    <tr>\n",
       "      <th>4</th>\n",
       "      <td>Contact us - Niramax Group Limited</td>\n",
       "      <td>Niramax Group Limited John Shadforth House Tho...</td>\n",
       "      <td>None</td>\n",
       "      <td>[11c72183-4331-44e5-ad37-5d93ee6c67ea, 9d1c254...</td>\n",
       "      <td>Contact us - Niramax Group LimitedNiramax Grou...</td>\n",
       "      <td>0</td>\n",
       "      <td>0_niramax_limited_group_company</td>\n",
       "      <td>[niramax, limited, group, company, and, update...</td>\n",
       "      <td>[NIRAMAX GROUP LIMITED filing history - Find a...</td>\n",
       "      <td>niramax - limited - group - company - and - up...</td>\n",
       "      <td>1.000000</td>\n",
       "      <td>False</td>\n",
       "    </tr>\n",
       "    <tr>\n",
       "      <th>...</th>\n",
       "      <td>...</td>\n",
       "      <td>...</td>\n",
       "      <td>...</td>\n",
       "      <td>...</td>\n",
       "      <td>...</td>\n",
       "      <td>...</td>\n",
       "      <td>...</td>\n",
       "      <td>...</td>\n",
       "      <td>...</td>\n",
       "      <td>...</td>\n",
       "      <td>...</td>\n",
       "      <td>...</td>\n",
       "    </tr>\n",
       "    <tr>\n",
       "      <th>90</th>\n",
       "      <td>NIRAMAX HOLDINGS LIMITED more information - Fi...</td>\n",
       "      <td>NIRAMAX HOLDINGS LIMITED - Free company inform...</td>\n",
       "      <td>None</td>\n",
       "      <td>[7e3564a2-260d-495a-ad56-d02d20e37e2a]</td>\n",
       "      <td>NIRAMAX HOLDINGS LIMITED more information - Fi...</td>\n",
       "      <td>0</td>\n",
       "      <td>0_niramax_limited_group_company</td>\n",
       "      <td>[niramax, limited, group, company, and, update...</td>\n",
       "      <td>[NIRAMAX GROUP LIMITED filing history - Find a...</td>\n",
       "      <td>niramax - limited - group - company - and - up...</td>\n",
       "      <td>1.000000</td>\n",
       "      <td>False</td>\n",
       "    </tr>\n",
       "    <tr>\n",
       "      <th>91</th>\n",
       "      <td>NIRAMAX GROUP LIMITED filing history - Find an...</td>\n",
       "      <td>NIRAMAX GROUP LIMITED - Free company informati...</td>\n",
       "      <td>None</td>\n",
       "      <td>[6faef2d8-caba-4679-850e-8dcccec6be2e]</td>\n",
       "      <td>NIRAMAX GROUP LIMITED filing history - Find an...</td>\n",
       "      <td>0</td>\n",
       "      <td>0_niramax_limited_group_company</td>\n",
       "      <td>[niramax, limited, group, company, and, update...</td>\n",
       "      <td>[NIRAMAX GROUP LIMITED filing history - Find a...</td>\n",
       "      <td>niramax - limited - group - company - and - up...</td>\n",
       "      <td>0.985919</td>\n",
       "      <td>True</td>\n",
       "    </tr>\n",
       "    <tr>\n",
       "      <th>92</th>\n",
       "      <td>NIRAMAX RUBBER PRODUCTS LIMITED charges - Find...</td>\n",
       "      <td>... NIRAMAX RUBBER PRODUCTS LIMITED - Free co...</td>\n",
       "      <td>{'Year': 2019, 'Month': 12, 'MonthShort': 'Dec...</td>\n",
       "      <td>[0d3e07fe-a5fc-4547-aab1-556624ee7203]</td>\n",
       "      <td>NIRAMAX RUBBER PRODUCTS LIMITED charges - Find...</td>\n",
       "      <td>-1</td>\n",
       "      <td>-1_niramax_products_rubber_firm</td>\n",
       "      <td>[niramax, products, rubber, firm, teesside, ha...</td>\n",
       "      <td>[NIRAMAX RUBBER PRODUCTS LIMITED people - Find...</td>\n",
       "      <td>niramax - products - rubber - firm - teesside ...</td>\n",
       "      <td>0.000000</td>\n",
       "      <td>True</td>\n",
       "    </tr>\n",
       "    <tr>\n",
       "      <th>93</th>\n",
       "      <td>NIRAMAX RUBBER PRODUCTS LIMITED more informati...</td>\n",
       "      <td>NIRAMAX RUBBER PRODUCTS LIMITED - Free company...</td>\n",
       "      <td>None</td>\n",
       "      <td>[098006b4-6e71-4182-adcb-eba1d2467804]</td>\n",
       "      <td>NIRAMAX RUBBER PRODUCTS LIMITED more informati...</td>\n",
       "      <td>-1</td>\n",
       "      <td>-1_niramax_products_rubber_firm</td>\n",
       "      <td>[niramax, products, rubber, firm, teesside, ha...</td>\n",
       "      <td>[NIRAMAX RUBBER PRODUCTS LIMITED people - Find...</td>\n",
       "      <td>niramax - products - rubber - firm - teesside ...</td>\n",
       "      <td>0.000000</td>\n",
       "      <td>False</td>\n",
       "    </tr>\n",
       "    <tr>\n",
       "      <th>94</th>\n",
       "      <td>G14 Organisational chart</td>\n",
       "      <td>Niramax Group Limited Longhill Site Organogram...</td>\n",
       "      <td>None</td>\n",
       "      <td>[ae906942-0955-4507-8375-c61b32898278]</td>\n",
       "      <td>G14 Organisational chartNiramax Group Limited ...</td>\n",
       "      <td>0</td>\n",
       "      <td>0_niramax_limited_group_company</td>\n",
       "      <td>[niramax, limited, group, company, and, update...</td>\n",
       "      <td>[NIRAMAX GROUP LIMITED filing history - Find a...</td>\n",
       "      <td>niramax - limited - group - company - and - up...</td>\n",
       "      <td>0.968450</td>\n",
       "      <td>False</td>\n",
       "    </tr>\n",
       "  </tbody>\n",
       "</table>\n",
       "<p>95 rows × 12 columns</p>\n",
       "</div>"
      ],
      "text/plain": [
       "                                                title  \\\n",
       "0   Zurich Insurance PLC v Niramax Group Limited [...   \n",
       "1   Zurich Insurance PLC v Niramax Group Limited [...   \n",
       "2   Non-disclosure to insurers (pre-Insurance Act ...   \n",
       "3   Recycling firm Niramax fined Â£16000 over envi...   \n",
       "4                  Contact us - Niramax Group Limited   \n",
       "..                                                ...   \n",
       "90  NIRAMAX HOLDINGS LIMITED more information - Fi...   \n",
       "91  NIRAMAX GROUP LIMITED filing history - Find an...   \n",
       "92  NIRAMAX RUBBER PRODUCTS LIMITED charges - Find...   \n",
       "93  NIRAMAX RUBBER PRODUCTS LIMITED more informati...   \n",
       "94                           G14 Organisational chart   \n",
       "\n",
       "                                              snippet  \\\n",
       "0   5 May 2021 - ... Chambers Social Responsibilit...   \n",
       "1   4 May 2021 - The Respondent, Niramax, was in t...   \n",
       "2   29 Jul 2021 - In December 2015, waste collecti...   \n",
       "3   15 Jan 2018 - Niramax Group Ltd pleaded guilty...   \n",
       "4   Niramax Group Limited John Shadforth House Tho...   \n",
       "..                                                ...   \n",
       "90  NIRAMAX HOLDINGS LIMITED - Free company inform...   \n",
       "91  NIRAMAX GROUP LIMITED - Free company informati...   \n",
       "92   ... NIRAMAX RUBBER PRODUCTS LIMITED - Free co...   \n",
       "93  NIRAMAX RUBBER PRODUCTS LIMITED - Free company...   \n",
       "94  Niramax Group Limited Longhill Site Organogram...   \n",
       "\n",
       "                                                 date  \\\n",
       "0   {'Year': 2021, 'Month': 5, 'MonthShort': 'May'...   \n",
       "1   {'Year': 2021, 'Month': 5, 'MonthShort': 'May'...   \n",
       "2   {'Year': 2021, 'Month': 7, 'MonthShort': 'Jul'...   \n",
       "3   {'Year': 2018, 'Month': 1, 'MonthShort': 'Jan'...   \n",
       "4                                                None   \n",
       "..                                                ...   \n",
       "90                                               None   \n",
       "91                                               None   \n",
       "92  {'Year': 2019, 'Month': 12, 'MonthShort': 'Dec...   \n",
       "93                                               None   \n",
       "94                                               None   \n",
       "\n",
       "                                            sourceids  \\\n",
       "0   [d59499b9-4d75-4aec-9e85-fecccb89b476, 97d7dbc...   \n",
       "1   [4eb3a73b-1feb-4c84-a5fc-0a15d9df8410, e4c060e...   \n",
       "2   [1afc8049-8272-425f-aea1-23d0dda39eb3, c43a9f9...   \n",
       "3   [be8451e5-537a-4088-8763-2dfbd7a77ad5, 5e7bf3c...   \n",
       "4   [11c72183-4331-44e5-ad37-5d93ee6c67ea, 9d1c254...   \n",
       "..                                                ...   \n",
       "90             [7e3564a2-260d-495a-ad56-d02d20e37e2a]   \n",
       "91             [6faef2d8-caba-4679-850e-8dcccec6be2e]   \n",
       "92             [0d3e07fe-a5fc-4547-aab1-556624ee7203]   \n",
       "93             [098006b4-6e71-4182-adcb-eba1d2467804]   \n",
       "94             [ae906942-0955-4507-8375-c61b32898278]   \n",
       "\n",
       "                                            full_text  topic  \\\n",
       "0   Zurich Insurance PLC v Niramax Group Limited [...      0   \n",
       "1   Zurich Insurance PLC v Niramax Group Limited [...      0   \n",
       "2   Non-disclosure to insurers (pre-Insurance Act ...      0   \n",
       "3   Recycling firm Niramax fined Â£16000 over envi...     -1   \n",
       "4   Contact us - Niramax Group LimitedNiramax Grou...      0   \n",
       "..                                                ...    ...   \n",
       "90  NIRAMAX HOLDINGS LIMITED more information - Fi...      0   \n",
       "91  NIRAMAX GROUP LIMITED filing history - Find an...      0   \n",
       "92  NIRAMAX RUBBER PRODUCTS LIMITED charges - Find...     -1   \n",
       "93  NIRAMAX RUBBER PRODUCTS LIMITED more informati...     -1   \n",
       "94  G14 Organisational chartNiramax Group Limited ...      0   \n",
       "\n",
       "                               name  \\\n",
       "0   0_niramax_limited_group_company   \n",
       "1   0_niramax_limited_group_company   \n",
       "2   0_niramax_limited_group_company   \n",
       "3   -1_niramax_products_rubber_firm   \n",
       "4   0_niramax_limited_group_company   \n",
       "..                              ...   \n",
       "90  0_niramax_limited_group_company   \n",
       "91  0_niramax_limited_group_company   \n",
       "92  -1_niramax_products_rubber_firm   \n",
       "93  -1_niramax_products_rubber_firm   \n",
       "94  0_niramax_limited_group_company   \n",
       "\n",
       "                                       representation  \\\n",
       "0   [niramax, limited, group, company, and, update...   \n",
       "1   [niramax, limited, group, company, and, update...   \n",
       "2   [niramax, limited, group, company, and, update...   \n",
       "3   [niramax, products, rubber, firm, teesside, ha...   \n",
       "4   [niramax, limited, group, company, and, update...   \n",
       "..                                                ...   \n",
       "90  [niramax, limited, group, company, and, update...   \n",
       "91  [niramax, limited, group, company, and, update...   \n",
       "92  [niramax, products, rubber, firm, teesside, ha...   \n",
       "93  [niramax, products, rubber, firm, teesside, ha...   \n",
       "94  [niramax, limited, group, company, and, update...   \n",
       "\n",
       "                                  representative_docs  \\\n",
       "0   [NIRAMAX GROUP LIMITED filing history - Find a...   \n",
       "1   [NIRAMAX GROUP LIMITED filing history - Find a...   \n",
       "2   [NIRAMAX GROUP LIMITED filing history - Find a...   \n",
       "3   [NIRAMAX RUBBER PRODUCTS LIMITED people - Find...   \n",
       "4   [NIRAMAX GROUP LIMITED filing history - Find a...   \n",
       "..                                                ...   \n",
       "90  [NIRAMAX GROUP LIMITED filing history - Find a...   \n",
       "91  [NIRAMAX GROUP LIMITED filing history - Find a...   \n",
       "92  [NIRAMAX RUBBER PRODUCTS LIMITED people - Find...   \n",
       "93  [NIRAMAX RUBBER PRODUCTS LIMITED people - Find...   \n",
       "94  [NIRAMAX GROUP LIMITED filing history - Find a...   \n",
       "\n",
       "                                          top_n_words  probability  \\\n",
       "0   niramax - limited - group - company - and - up...     0.894246   \n",
       "1   niramax - limited - group - company - and - up...     0.894246   \n",
       "2   niramax - limited - group - company - and - up...     0.632915   \n",
       "3   niramax - products - rubber - firm - teesside ...     0.000000   \n",
       "4   niramax - limited - group - company - and - up...     1.000000   \n",
       "..                                                ...          ...   \n",
       "90  niramax - limited - group - company - and - up...     1.000000   \n",
       "91  niramax - limited - group - company - and - up...     0.985919   \n",
       "92  niramax - products - rubber - firm - teesside ...     0.000000   \n",
       "93  niramax - products - rubber - firm - teesside ...     0.000000   \n",
       "94  niramax - limited - group - company - and - up...     0.968450   \n",
       "\n",
       "    representative_document  \n",
       "0                     False  \n",
       "1                     False  \n",
       "2                     False  \n",
       "3                     False  \n",
       "4                     False  \n",
       "..                      ...  \n",
       "90                    False  \n",
       "91                     True  \n",
       "92                     True  \n",
       "93                    False  \n",
       "94                    False  \n",
       "\n",
       "[95 rows x 12 columns]"
      ]
     },
     "execution_count": 29,
     "metadata": {},
     "output_type": "execute_result"
    }
   ],
   "source": [
    "merged_df"
   ]
  },
  {
   "cell_type": "code",
   "execution_count": 30,
   "metadata": {},
   "outputs": [
    {
     "data": {
      "text/html": [
       "<div>\n",
       "<style scoped>\n",
       "    .dataframe tbody tr th:only-of-type {\n",
       "        vertical-align: middle;\n",
       "    }\n",
       "\n",
       "    .dataframe tbody tr th {\n",
       "        vertical-align: top;\n",
       "    }\n",
       "\n",
       "    .dataframe thead th {\n",
       "        text-align: right;\n",
       "    }\n",
       "</style>\n",
       "<table border=\"1\" class=\"dataframe\">\n",
       "  <thead>\n",
       "    <tr style=\"text-align: right;\">\n",
       "      <th></th>\n",
       "      <th>title</th>\n",
       "      <th>snippet</th>\n",
       "      <th>date</th>\n",
       "      <th>sourceids</th>\n",
       "      <th>full_text</th>\n",
       "      <th>topic</th>\n",
       "      <th>name</th>\n",
       "      <th>representation</th>\n",
       "      <th>representative_docs</th>\n",
       "      <th>top_n_words</th>\n",
       "      <th>probability</th>\n",
       "      <th>representative_document</th>\n",
       "    </tr>\n",
       "  </thead>\n",
       "  <tbody>\n",
       "    <tr>\n",
       "      <th>0</th>\n",
       "      <td>Zurich Insurance PLC v Niramax Group Limited [...</td>\n",
       "      <td>5 May 2021 - ... Chambers Social Responsibilit...</td>\n",
       "      <td>{'Year': 2021, 'Month': 5, 'MonthShort': 'May'...</td>\n",
       "      <td>[d59499b9-4d75-4aec-9e85-fecccb89b476, 97d7dbc...</td>\n",
       "      <td>Zurich Insurance PLC v Niramax Group Limited [...</td>\n",
       "      <td>0</td>\n",
       "      <td>0_niramax_limited_group_company</td>\n",
       "      <td>[niramax, limited, group, company, and, update...</td>\n",
       "      <td>[NIRAMAX GROUP LIMITED filing history - Find a...</td>\n",
       "      <td>niramax - limited - group - company - and - up...</td>\n",
       "      <td>0.894246</td>\n",
       "      <td>False</td>\n",
       "    </tr>\n",
       "  </tbody>\n",
       "</table>\n",
       "</div>"
      ],
      "text/plain": [
       "                                               title  \\\n",
       "0  Zurich Insurance PLC v Niramax Group Limited [...   \n",
       "\n",
       "                                             snippet  \\\n",
       "0  5 May 2021 - ... Chambers Social Responsibilit...   \n",
       "\n",
       "                                                date  \\\n",
       "0  {'Year': 2021, 'Month': 5, 'MonthShort': 'May'...   \n",
       "\n",
       "                                           sourceids  \\\n",
       "0  [d59499b9-4d75-4aec-9e85-fecccb89b476, 97d7dbc...   \n",
       "\n",
       "                                           full_text  topic  \\\n",
       "0  Zurich Insurance PLC v Niramax Group Limited [...      0   \n",
       "\n",
       "                              name  \\\n",
       "0  0_niramax_limited_group_company   \n",
       "\n",
       "                                      representation  \\\n",
       "0  [niramax, limited, group, company, and, update...   \n",
       "\n",
       "                                 representative_docs  \\\n",
       "0  [NIRAMAX GROUP LIMITED filing history - Find a...   \n",
       "\n",
       "                                         top_n_words  probability  \\\n",
       "0  niramax - limited - group - company - and - up...     0.894246   \n",
       "\n",
       "   representative_document  \n",
       "0                    False  "
      ]
     },
     "execution_count": 30,
     "metadata": {},
     "output_type": "execute_result"
    }
   ],
   "source": [
    "merged_df = merged_df.drop_duplicates(subset= \"full_text\")\n",
    "merged_df.head(1)"
   ]
  },
  {
   "cell_type": "code",
   "execution_count": 31,
   "metadata": {},
   "outputs": [
    {
     "ename": "NameError",
     "evalue": "name 'new_df' is not defined",
     "output_type": "error",
     "traceback": [
      "\u001b[0;31m---------------------------------------------------------------------------\u001b[0m",
      "\u001b[0;31mNameError\u001b[0m                                 Traceback (most recent call last)",
      "Cell \u001b[0;32mIn[31], line 1\u001b[0m\n\u001b[0;32m----> 1\u001b[0m new_df[new_df[\u001b[39m'\u001b[39m\u001b[39mtopic\u001b[39m\u001b[39m'\u001b[39m] \u001b[39m==\u001b[39m \u001b[39m2\u001b[39m]\u001b[39m.\u001b[39msort_values(by \u001b[39m=\u001b[39m \u001b[39m\"\u001b[39m\u001b[39mprobability\u001b[39m\u001b[39m\"\u001b[39m)\n",
      "\u001b[0;31mNameError\u001b[0m: name 'new_df' is not defined"
     ]
    }
   ],
   "source": [
    "new_df[new_df['topic'] == 2].sort_values(by = \"probability\")"
   ]
  },
  {
   "cell_type": "code",
   "execution_count": null,
   "metadata": {},
   "outputs": [
    {
     "ename": "",
     "evalue": "",
     "output_type": "error",
     "traceback": [
      "\u001b[1;31mRunning cells with 'development' requires the ipykernel package.\n",
      "\u001b[1;31mRun the following command to install 'ipykernel' into the Python environment. \n",
      "\u001b[1;31mCommand: 'conda install -n development ipykernel --update-deps --force-reinstall'"
     ]
    }
   ],
   "source": [
    "trial = new_df[new_df['topic'] == 2]\n",
    "topic_model = BERTopic(embedding_model = 'all-MiniLM-L6-v2')\n",
    "topics, probs = topic_model.fit_transform(trial['full_text'].tolist(), y = trial['label_temporal'])\n",
    "\n",
    "topic_model.get_topic_info()"
   ]
  },
  {
   "cell_type": "code",
   "execution_count": null,
   "metadata": {},
   "outputs": [
    {
     "ename": "",
     "evalue": "",
     "output_type": "error",
     "traceback": [
      "\u001b[1;31mRunning cells with 'development' requires the ipykernel package.\n",
      "\u001b[1;31mRun the following command to install 'ipykernel' into the Python environment. \n",
      "\u001b[1;31mCommand: 'conda install -n development ipykernel --update-deps --force-reinstall'"
     ]
    }
   ],
   "source": [
    "import tqdm \n",
    "tqdm.tqdm.pandas()"
   ]
  },
  {
   "cell_type": "code",
   "execution_count": null,
   "metadata": {},
   "outputs": [],
   "source": [
    "import matplotlib.pyplot as plt\n",
    "from datetime import datetime\n",
    "from matplotlib.dates import date2num\n",
    "from sklearn.cluster import DBSCAN\n",
    "import pandas as pd\n",
    "\n",
    "def plot_dates(dates):\n",
    "    converted_dates = []\n",
    "\n",
    "    for date in dates:\n",
    "        date_str = f\"{date['Year']}-{date['Month']}-{date['Day']}\"\n",
    "        converted_date = datetime.strptime(date_str, \"%Y-%m-%d\")\n",
    "        converted_dates.append(converted_date)\n",
    "\n",
    "    # Perform temporal clustering using DBSCAN\n",
    "    clustering = DBSCAN(eps=365/2, min_samples=5).fit(date2num(converted_dates).reshape(-1, 1))\n",
    "    # Create a mapping of dates to cluster labels\n",
    "    date_clusters = []\n",
    "    for i, label in enumerate(clustering.labels_):\n",
    "        date_clusters.append((dates[i], label))\n",
    "        \n",
    "\n",
    "    df = pd.DataFrame(date_clusters, columns=[\"date\", \"label_temporal\"])\n",
    "\n",
    "    # Plotting the converted dates with highlighted clusters\n",
    "    plt.figure(figsize=(8, 6))\n",
    "    for label in df['label_temporal'].unique():\n",
    "        cluster_dates = df[df['label_temporal'] == label]['date']\n",
    "        cluster_converted_dates = [datetime.strptime(f\"{date['Year']}-{date['Month']}-{date['Day']}\", \"%Y-%m-%d\") for\n",
    "                                    date in cluster_dates]\n",
    "        plt.scatter(cluster_converted_dates, range(len(cluster_converted_dates)), marker='o', label=f'Cluster {label}')\n",
    "\n",
    "    plt.xlabel('Date')\n",
    "    plt.ylabel (\"\")\n",
    "    plt.title('Dates on a Number Line')\n",
    "    plt.legend()\n",
    "    plt.show()\n",
    "\n",
    "    return df\n",
    "    \n",
    "\n"
   ]
  },
  {
   "cell_type": "code",
   "execution_count": null,
   "metadata": {},
   "outputs": [
    {
     "data": {
      "image/png": "[encoded data removed]",
      "text/plain": [
       "<Figure size 800x600 with 1 Axes>"
      ]
     },
     "metadata": {},
     "output_type": "display_data"
    }
   ],
   "source": [
    "dates = [x for x in df['date'].values.tolist() if x!= None]\n",
    "density_threshold = 1  # Adjust this value based on your data and requirements\n",
    "\n",
    "temporal_df = plot_dates(dates)\n",
    "\n",
    "\n"
   ]
  },
  {
   "cell_type": "code",
   "execution_count": null,
   "metadata": {},
   "outputs": [
    {
     "ename": "",
     "evalue": "",
     "output_type": "error",
     "traceback": [
      "\u001b[1;31mRunning cells with 'development' requires the ipykernel package.\n",
      "\u001b[1;31mRun the following command to install 'ipykernel' into the Python environment. \n",
      "\u001b[1;31mCommand: 'conda install -n development ipykernel --update-deps --force-reinstall'"
     ]
    }
   ],
   "source": [
    "merged_df"
   ]
  },
  {
   "cell_type": "code",
   "execution_count": null,
   "metadata": {},
   "outputs": [
    {
     "ename": "",
     "evalue": "",
     "output_type": "error",
     "traceback": [
      "\u001b[1;31mRunning cells with 'development' requires the ipykernel package.\n",
      "\u001b[1;31mRun the following command to install 'ipykernel' into the Python environment. \n",
      "\u001b[1;31mCommand: 'conda install -n development ipykernel --update-deps --force-reinstall'"
     ]
    }
   ],
   "source": [
    "def merge_datetime_dfs(df1 : pd.DataFrame, df2 : pd.DataFrame): \n",
    "    df1['date_str'] = df1['date'].apply(lambda x: str(x))\n",
    "    df2['date_str'] = df2['date'].apply(lambda x: str(x))\n",
    "\n",
    "    # Perform the merge based on the 'date_str' column\n",
    "    merged_df = pd.merge(df1, df2, on='date_str')\n",
    "    merged_df = merged_df.drop_duplicates(subset= \"full_text\")\n",
    "\n",
    "    \n",
    "    return merged_df"
   ]
  },
  {
   "cell_type": "code",
   "execution_count": null,
   "metadata": {},
   "outputs": [
    {
     "ename": "",
     "evalue": "",
     "output_type": "error",
     "traceback": [
      "\u001b[1;31mRunning cells with 'development' requires the ipykernel package.\n",
      "\u001b[1;31mRun the following command to install 'ipykernel' into the Python environment. \n",
      "\u001b[1;31mCommand: 'conda install -n development ipykernel --update-deps --force-reinstall'"
     ]
    }
   ],
   "source": [
    "from sklearn.metrics.pairwise import cosine_similarity\n",
    "\n",
    "model = SentenceTransformer('sentence-transformers/all-MiniLM-L6-v2')\n"
   ]
  },
  {
   "cell_type": "code",
   "execution_count": null,
   "metadata": {},
   "outputs": [
    {
     "ename": "",
     "evalue": "",
     "output_type": "error",
     "traceback": [
      "\u001b[1;31mRunning cells with 'development' requires the ipykernel package.\n",
      "\u001b[1;31mRun the following command to install 'ipykernel' into the Python environment. \n",
      "\u001b[1;31mCommand: 'conda install -n development ipykernel --update-deps --force-reinstall'"
     ]
    }
   ],
   "source": [
    "new_df"
   ]
  },
  {
   "cell_type": "code",
   "execution_count": null,
   "metadata": {},
   "outputs": [
    {
     "ename": "",
     "evalue": "",
     "output_type": "error",
     "traceback": [
      "\u001b[1;31mRunning cells with 'development' requires the ipykernel package.\n",
      "\u001b[1;31mRun the following command to install 'ipykernel' into the Python environment. \n",
      "\u001b[1;31mCommand: 'conda install -n development ipykernel --update-deps --force-reinstall'"
     ]
    }
   ],
   "source": [
    "new_df[new_df['topic'] == 1]['full_text'].unique()"
   ]
  },
  {
   "cell_type": "code",
   "execution_count": null,
   "metadata": {},
   "outputs": [
    {
     "ename": "",
     "evalue": "",
     "output_type": "error",
     "traceback": [
      "\u001b[1;31mRunning cells with 'development' requires the ipykernel package.\n",
      "\u001b[1;31mRun the following command to install 'ipykernel' into the Python environment. \n",
      "\u001b[1;31mCommand: 'conda install -n development ipykernel --update-deps --force-reinstall'"
     ]
    }
   ],
   "source": [
    "for i in range(3):\n",
    "    unique_docs = new_df[new_df['topic'] == i]['snippet'].tolist()\n",
    "    title_docs = new_df[new_df['topic'] == i]['representative_docs'].tolist()[0]\n",
    "    print(title_docs, \"\\n\\n\\n\")"
   ]
  },
  {
   "cell_type": "code",
   "execution_count": null,
   "metadata": {},
   "outputs": [
    {
     "ename": "",
     "evalue": "",
     "output_type": "error",
     "traceback": [
      "\u001b[1;31mRunning cells with 'development' requires the ipykernel package.\n",
      "\u001b[1;31mRun the following command to install 'ipykernel' into the Python environment. \n",
      "\u001b[1;31mCommand: 'conda install -n development ipykernel --update-deps --force-reinstall'"
     ]
    }
   ],
   "source": [
    "title_docs"
   ]
  },
  {
   "cell_type": "code",
   "execution_count": null,
   "metadata": {},
   "outputs": [
    {
     "ename": "",
     "evalue": "",
     "output_type": "error",
     "traceback": [
      "\u001b[1;31mRunning cells with 'development' requires the ipykernel package.\n",
      "\u001b[1;31mRun the following command to install 'ipykernel' into the Python environment. \n",
      "\u001b[1;31mCommand: 'conda install -n development ipykernel --update-deps --force-reinstall'"
     ]
    }
   ],
   "source": [
    "from typing import List\n",
    "from sklearn.metrics.pairwise import cosine_similarity\n",
    "import numpy as np\n",
    "\n",
    "def find_duplicates(titles: List[str], title_docs : List[str]):\n",
    "    print(title_docs, \"\\n\")\n",
    "    embeddings = model.encode(titles)\n",
    "    title_embedding = model.encode(title_docs, )\n",
    "    similarity_matrix = cosine_similarity(embeddings, np.average(title_embedding,axis = 0).reshape(1,-1))\n",
    "    for i, title in enumerate(titles): \n",
    "        print(similarity_matrix[i], title)\n",
    "\n",
    "find_duplicates(new_df[new_df['topic'] == 2]['full_text'].tolist(), title_docs)"
   ]
  },
  {
   "cell_type": "code",
   "execution_count": null,
   "metadata": {},
   "outputs": [
    {
     "ename": "",
     "evalue": "",
     "output_type": "error",
     "traceback": [
      "\u001b[1;31mRunning cells with 'development' requires the ipykernel package.\n",
      "\u001b[1;31mRun the following command to install 'ipykernel' into the Python environment. \n",
      "\u001b[1;31mCommand: 'conda install -n development ipykernel --update-deps --force-reinstall'"
     ]
    }
   ],
   "source": [
    "from typing import List"
   ]
  },
  {
   "cell_type": "code",
   "execution_count": null,
   "metadata": {},
   "outputs": [
    {
     "ename": "",
     "evalue": "",
     "output_type": "error",
     "traceback": [
      "\u001b[1;31mRunning cells with 'development' requires the ipykernel package.\n",
      "\u001b[1;31mRun the following command to install 'ipykernel' into the Python environment. \n",
      "\u001b[1;31mCommand: 'conda install -n development ipykernel --update-deps --force-reinstall'"
     ]
    }
   ],
   "source": [
    "from typing import List\n",
    "from sklearn.metrics.pairwise import cosine_similarity\n",
    "import numpy as np\n",
    "\n",
    "def find_duplicates(titles: List[str]):\n",
    "    embeddings = model.encode(titles)\n",
    "\n",
    "    similarity_matrix = cosine_similarity(embeddings)\n",
    "    np.fill_diagonal(similarity_matrix, 0)  # Set diagonal elements to 0\n",
    "\n",
    "    lower_triangle = np.tril(similarity_matrix)  # Get lower triangle of the similarity matrix\n",
    "    print(lower_triangle.shape)\n",
    "    duplicate_indices = np.where(lower_triangle > 0.6)\n",
    "    \n",
    "    print(duplicate_indices)\n",
    "\n",
    "find_duplicates(new_df[new_df['topic'] == 1]['full_text'].tolist())\n",
    "\n"
   ]
  },
  {
   "cell_type": "code",
   "execution_count": null,
   "metadata": {},
   "outputs": [
    {
     "ename": "",
     "evalue": "",
     "output_type": "error",
     "traceback": [
      "\u001b[1;31mRunning cells with 'development' requires the ipykernel package.\n",
      "\u001b[1;31mRun the following command to install 'ipykernel' into the Python environment. \n",
      "\u001b[1;31mCommand: 'conda install -n development ipykernel --update-deps --force-reinstall'"
     ]
    }
   ],
   "source": [
    "find_duplicates(embeddings)"
   ]
  },
  {
   "cell_type": "code",
   "execution_count": null,
   "metadata": {},
   "outputs": [
    {
     "ename": "",
     "evalue": "",
     "output_type": "error",
     "traceback": [
      "\u001b[1;31mRunning cells with 'development' requires the ipykernel package.\n",
      "\u001b[1;31mRun the following command to install 'ipykernel' into the Python environment. \n",
      "\u001b[1;31mCommand: 'conda install -n development ipykernel --update-deps --force-reinstall'"
     ]
    }
   ],
   "source": [
    "import pandas as pd\n",
    "\n",
    "# Assuming you have a DataFrame named df with columns 'Date' and 'label_temporal'\n",
    "n = 10  # Minimum number of occurrences for a value to be retained\n",
    "\n",
    "# Count the occurrences of each value in 'label_temporal' column\n",
    "value_counts = df['label_temporal'].value_counts()\n",
    "\n",
    "# Get the values that appear at least 'n' times\n",
    "valid_values = value_counts[value_counts >= n].index\n",
    "\n",
    "# Filter the DataFrame based on the valid values\n",
    "filtered_df = df[df['label_temporal'].isin(valid_values)]\n",
    "\n",
    "# Print the filtered DataFrame\n",
    "print(filtered_df)\n"
   ]
  },
  {
   "cell_type": "code",
   "execution_count": null,
   "metadata": {},
   "outputs": [
    {
     "ename": "",
     "evalue": "",
     "output_type": "error",
     "traceback": [
      "\u001b[1;31mRunning cells with 'development' requires the ipykernel package.\n",
      "\u001b[1;31mRun the following command to install 'ipykernel' into the Python environment. \n",
      "\u001b[1;31mCommand: 'conda install -n development ipykernel --update-deps --force-reinstall'"
     ]
    }
   ],
   "source": [
    "temporal_df['DateStr'] = temporal_df['Date'].apply(lambda x: str(x)) \n",
    "merged_df['DateStr'] = merged_df['Date'].apply(lambda x: str(x))\n",
    "\n"
   ]
  },
  {
   "cell_type": "code",
   "execution_count": null,
   "metadata": {},
   "outputs": [
    {
     "ename": "",
     "evalue": "",
     "output_type": "error",
     "traceback": [
      "\u001b[1;31mRunning cells with 'development' requires the ipykernel package.\n",
      "\u001b[1;31mRun the following command to install 'ipykernel' into the Python environment. \n",
      "\u001b[1;31mCommand: 'conda install -n development ipykernel --update-deps --force-reinstall'"
     ]
    }
   ],
   "source": [
    "merged_df"
   ]
  },
  {
   "cell_type": "code",
   "execution_count": null,
   "metadata": {},
   "outputs": [
    {
     "ename": "",
     "evalue": "",
     "output_type": "error",
     "traceback": [
      "\u001b[1;31mRunning cells with 'development' requires the ipykernel package.\n",
      "\u001b[1;31mRun the following command to install 'ipykernel' into the Python environment. \n",
      "\u001b[1;31mCommand: 'conda install -n development ipykernel --update-deps --force-reinstall'"
     ]
    }
   ],
   "source": [
    "temporal_df"
   ]
  },
  {
   "cell_type": "code",
   "execution_count": null,
   "metadata": {},
   "outputs": [
    {
     "ename": "",
     "evalue": "",
     "output_type": "error",
     "traceback": [
      "\u001b[1;31mRunning cells with 'development' requires the ipykernel package.\n",
      "\u001b[1;31mRun the following command to install 'ipykernel' into the Python environment. \n",
      "\u001b[1;31mCommand: 'conda install -n development ipykernel --update-deps --force-reinstall'"
     ]
    }
   ],
   "source": [
    "x = pd.merge(temporal_df, merged_df, on='DateStr')\n"
   ]
  },
  {
   "cell_type": "code",
   "execution_count": null,
   "metadata": {},
   "outputs": [
    {
     "ename": "",
     "evalue": "",
     "output_type": "error",
     "traceback": [
      "\u001b[1;31mRunning cells with 'development' requires the ipykernel package.\n",
      "\u001b[1;31mRun the following command to install 'ipykernel' into the Python environment. \n",
      "\u001b[1;31mCommand: 'conda install -n development ipykernel --update-deps --force-reinstall'"
     ]
    }
   ],
   "source": [
    "x['full_text'] = x['Title'] + x['Snippet']\n",
    "\n",
    "\n",
    "# Drop duplicates based on a specific column\n",
    "\n",
    "x.drop_duplicates(subset='full_text')"
   ]
  },
  {
   "cell_type": "code",
   "execution_count": null,
   "metadata": {},
   "outputs": [
    {
     "ename": "",
     "evalue": "",
     "output_type": "error",
     "traceback": [
      "\u001b[1;31mRunning cells with 'development' requires the ipykernel package.\n",
      "\u001b[1;31mRun the following command to install 'ipykernel' into the Python environment. \n",
      "\u001b[1;31mCommand: 'conda install -n development ipykernel --update-deps --force-reinstall'"
     ]
    }
   ],
   "source": [
    "topic_model = BERTopic(verbose=True).fit(x.full_text, y=x.label_temporal)\n"
   ]
  },
  {
   "cell_type": "code",
   "execution_count": null,
   "metadata": {},
   "outputs": [
    {
     "ename": "",
     "evalue": "",
     "output_type": "error",
     "traceback": [
      "\u001b[1;31mRunning cells with 'development' requires the ipykernel package.\n",
      "\u001b[1;31mRun the following command to install 'ipykernel' into the Python environment. \n",
      "\u001b[1;31mCommand: 'conda install -n development ipykernel --update-deps --force-reinstall'"
     ]
    }
   ],
   "source": [
    "for i in rangetopic_model.get_representative_docs()"
   ]
  },
  {
   "cell_type": "markdown",
   "metadata": {},
   "source": []
  },
  {
   "cell_type": "code",
   "execution_count": null,
   "metadata": {},
   "outputs": [
    {
     "ename": "",
     "evalue": "",
     "output_type": "error",
     "traceback": [
      "\u001b[1;31mRunning cells with 'development' requires the ipykernel package.\n",
      "\u001b[1;31mRun the following command to install 'ipykernel' into the Python environment. \n",
      "\u001b[1;31mCommand: 'conda install -n development ipykernel --update-deps --force-reinstall'"
     ]
    }
   ],
   "source": [
    "label_df = pd.read_csv(\"peudolabels.csv\")"
   ]
  },
  {
   "cell_type": "code",
   "execution_count": null,
   "metadata": {},
   "outputs": [
    {
     "ename": "",
     "evalue": "",
     "output_type": "error",
     "traceback": [
      "\u001b[1;31mRunning cells with 'development' requires the ipykernel package.\n",
      "\u001b[1;31mRun the following command to install 'ipykernel' into the Python environment. \n",
      "\u001b[1;31mCommand: 'conda install -n development ipykernel --update-deps --force-reinstall'"
     ]
    }
   ],
   "source": [
    "label_df[np.logical_or(label_df['label'] == \"0\",label_df['label'] ==\"1\")]"
   ]
  },
  {
   "cell_type": "code",
   "execution_count": null,
   "metadata": {},
   "outputs": [
    {
     "ename": "",
     "evalue": "",
     "output_type": "error",
     "traceback": [
      "\u001b[1;31mRunning cells with 'development' requires the ipykernel package.\n",
      "\u001b[1;31mRun the following command to install 'ipykernel' into the Python environment. \n",
      "\u001b[1;31mCommand: 'conda install -n development ipykernel --update-deps --force-reinstall'"
     ]
    }
   ],
   "source": [
    "merged_df = pd.merge(merged_df, temporal_df, left_on=['Date'], right_on=['date'], )\n",
    "# Drop the redundant 'Document' column from the merged DataFrame\n",
    "merged_df"
   ]
  },
  {
   "cell_type": "code",
   "execution_count": null,
   "metadata": {},
   "outputs": [
    {
     "ename": "",
     "evalue": "",
     "output_type": "error",
     "traceback": [
      "\u001b[1;31mRunning cells with 'development' requires the ipykernel package.\n",
      "\u001b[1;31mRun the following command to install 'ipykernel' into the Python environment. \n",
      "\u001b[1;31mCommand: 'conda install -n development ipykernel --update-deps --force-reinstall'"
     ]
    }
   ],
   "source": [
    "murder_data = merged_df[merged_df.Topic == 2]['Title'].unique(\n",
    ").tolist()"
   ]
  },
  {
   "cell_type": "code",
   "execution_count": null,
   "metadata": {},
   "outputs": [
    {
     "ename": "",
     "evalue": "",
     "output_type": "error",
     "traceback": [
      "\u001b[1;31mRunning cells with 'development' requires the ipykernel package.\n",
      "\u001b[1;31mRun the following command to install 'ipykernel' into the Python environment. \n",
      "\u001b[1;31mCommand: 'conda install -n development ipykernel --update-deps --force-reinstall'"
     ]
    }
   ],
   "source": [
    "murder_data"
   ]
  },
  {
   "cell_type": "code",
   "execution_count": null,
   "metadata": {},
   "outputs": [
    {
     "ename": "",
     "evalue": "",
     "output_type": "error",
     "traceback": [
      "\u001b[1;31mRunning cells with 'development' requires the ipykernel package.\n",
      "\u001b[1;31mRun the following command to install 'ipykernel' into the Python environment. \n",
      "\u001b[1;31mCommand: 'conda install -n development ipykernel --update-deps --force-reinstall'"
     ]
    }
   ],
   "source": [
    "topics"
   ]
  },
  {
   "cell_type": "code",
   "execution_count": null,
   "metadata": {},
   "outputs": [
    {
     "ename": "",
     "evalue": "",
     "output_type": "error",
     "traceback": [
      "\u001b[1;31mRunning cells with 'development' requires the ipykernel package.\n",
      "\u001b[1;31mRun the following command to install 'ipykernel' into the Python environment. \n",
      "\u001b[1;31mCommand: 'conda install -n development ipykernel --update-deps --force-reinstall'"
     ]
    }
   ],
   "source": [
    "import spacy\n",
    "\n",
    "# Load the pre-trained English NER model from spaCy\n",
    "nlp = spacy.load(\"en_core_web_sm\")\n",
    "\n",
    "# Example news data\n",
    "news_data = new_df.full_text.tolist()\n",
    "\n",
    "triplets = []\n",
    "\n",
    "# Process the sentence with spaCy\n",
    "for sentence in news_data:\n",
    "    doc = nlp(sentence)\n",
    "\n",
    "    # Extract dependency triplets involving specified entity types\n",
    "    for token in doc:\n",
    "        if token.dep_ == \"nsubj\" or token.dep_ == \"dobj\":\n",
    "            if token.ent_type_ in [\"PERSON\", \"NORP\", \"FAC\", \"ORG\", \"EVENT\", \"LAW\"]:\n",
    "                subject = token.head.text\n",
    "                relation = token.dep_\n",
    "                object_ = token.text\n",
    "                triplets.append((subject, relation, object_))\n",
    "\n",
    "# Print the extracted dependency triplets\n",
    "for triplet in triplets:\n",
    "    subject, relation, object_ = triplet\n",
    "    print(f\"{subject} --{relation}--> {object_}\")\n"
   ]
  },
  {
   "cell_type": "code",
   "execution_count": null,
   "metadata": {},
   "outputs": [
    {
     "ename": "",
     "evalue": "",
     "output_type": "error",
     "traceback": [
      "\u001b[1;31mRunning cells with 'development' requires the ipykernel package.\n",
      "\u001b[1;31mRun the following command to install 'ipykernel' into the Python environment. \n",
      "\u001b[1;31mCommand: 'conda install -n development ipykernel --update-deps --force-reinstall'"
     ]
    }
   ],
   "source": [
    "import networkx as nx\n",
    "\n",
    "# Create an empty directed graph\n",
    "graph = nx.DiGraph()\n",
    "\n",
    "# Example dependency triplets\n",
    "\n",
    "# Add nodes and edges to the graph\n",
    "for subject, relation, object_ in triplets:\n",
    "    graph.add_edge(subject, object_, label=relation)\n",
    "\n",
    "# Print the nodes and edges of the graph\n",
    "print(\"Nodes:\", graph.nodes())\n",
    "print(\"Edges:\")\n",
    "for source, target, data in graph.edges(data=True):\n",
    "    print(f\"{source} --{data['label']}--> {target}\")\n"
   ]
  },
  {
   "cell_type": "code",
   "execution_count": null,
   "metadata": {},
   "outputs": [
    {
     "ename": "",
     "evalue": "",
     "output_type": "error",
     "traceback": [
      "\u001b[1;31mRunning cells with 'development' requires the ipykernel package.\n",
      "\u001b[1;31mRun the following command to install 'ipykernel' into the Python environment. \n",
      "\u001b[1;31mCommand: 'conda install -n development ipykernel --update-deps --force-reinstall'"
     ]
    }
   ],
   "source": [
    "reachable_nodes"
   ]
  },
  {
   "cell_type": "code",
   "execution_count": null,
   "metadata": {},
   "outputs": [
    {
     "ename": "",
     "evalue": "",
     "output_type": "error",
     "traceback": [
      "\u001b[1;31mRunning cells with 'development' requires the ipykernel package.\n",
      "\u001b[1;31mRun the following command to install 'ipykernel' into the Python environment. \n",
      "\u001b[1;31mCommand: 'conda install -n development ipykernel --update-deps --force-reinstall'"
     ]
    }
   ],
   "source": [
    "plt.figure(figsize=(18,12))\n",
    "# Create a layout for the graph\n",
    "\n",
    "\n",
    "pos = nx.spring_layout(graph)\n",
    "\n",
    "# Draw the nodes\n",
    "nx.draw_networkx_nodes(graph, pos, node_size=500, node_color=\"lightblue\")\n",
    "\n",
    "# Draw the edges\n",
    "nx.draw_networkx_edges(graph, pos, arrows=True, edge_color=\"gray\")\n",
    "\n",
    "# Draw the labels\n",
    "nx.draw_networkx_labels(graph, pos, font_size=12, font_color=\"black\")\n",
    "\n",
    "# Draw the edge labels\n",
    "edge_labels = nx.get_edge_attributes(graph, \"label\")\n",
    "nx.draw_networkx_edge_labels(graph, pos, edge_labels=edge_labels)\n",
    "\n",
    "# Set plot properties\n",
    "plt.title(\"Dependency Graph\")\n",
    "plt.axis(\"off\")\n",
    "\n",
    "# Display the plot\n",
    "plt.show()"
   ]
  }
 ],
 "metadata": {
  "kernelspec": {
   "display_name": "pytorch_test",
   "language": "python",
   "name": "python3"
  },
  "language_info": {
   "codemirror_mode": {
    "name": "ipython",
    "version": 3
   },
   "file_extension": ".py",
   "mimetype": "text/x-python",
   "name": "python",
   "nbconvert_exporter": "python",
   "pygments_lexer": "ipython3",
   "version": "3.9.16"
  },
  "orig_nbformat": 4
 },
 "nbformat": 4,
 "nbformat_minor": 2
}
